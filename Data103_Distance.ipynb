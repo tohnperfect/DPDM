{
  "nbformat": 4,
  "nbformat_minor": 0,
  "metadata": {
    "colab": {
      "name": "Data103 Distance.ipynb",
      "provenance": [],
      "authorship_tag": "ABX9TyMACxzQkAMaF5o2KZGPk0P3",
      "include_colab_link": true
    },
    "kernelspec": {
      "name": "python3",
      "display_name": "Python 3"
    }
  },
  "cells": [
    {
      "cell_type": "markdown",
      "metadata": {
        "id": "view-in-github",
        "colab_type": "text"
      },
      "source": [
        "<a href=\"https://colab.research.google.com/github/tohnperfect/DPDM/blob/master/Data103_Distance.ipynb\" target=\"_parent\"><img src=\"https://colab.research.google.com/assets/colab-badge.svg\" alt=\"Open In Colab\"/></a>"
      ]
    },
    {
      "cell_type": "code",
      "metadata": {
        "id": "JyP1faCOsDe5",
        "colab_type": "code",
        "colab": {}
      },
      "source": [
        "import numpy as np"
      ],
      "execution_count": null,
      "outputs": []
    },
    {
      "cell_type": "markdown",
      "metadata": {
        "id": "AMdRCzBysaOh",
        "colab_type": "text"
      },
      "source": [
        "## numpy array"
      ]
    },
    {
      "cell_type": "code",
      "metadata": {
        "id": "lxpaEAzzsSPj",
        "colab_type": "code",
        "colab": {
          "base_uri": "https://localhost:8080/",
          "height": 50
        },
        "outputId": "1d93ec92-2d1d-4c66-97cb-53dcba62f798"
      },
      "source": [
        "np1 = np.array([[1,3,5],[2,4,6]])\n",
        "np1"
      ],
      "execution_count": null,
      "outputs": [
        {
          "output_type": "execute_result",
          "data": {
            "text/plain": [
              "array([[1, 3, 5],\n",
              "       [2, 4, 6]])"
            ]
          },
          "metadata": {
            "tags": []
          },
          "execution_count": 4
        }
      ]
    },
    {
      "cell_type": "code",
      "metadata": {
        "id": "QOrtMZTssmaa",
        "colab_type": "code",
        "colab": {
          "base_uri": "https://localhost:8080/",
          "height": 84
        },
        "outputId": "0f0f30de-12ee-4af2-a9d2-a9815b599ab6"
      },
      "source": [
        "np2 = np.array([[1,2],[3,5],[2,0],[4,5]])\n",
        "np2"
      ],
      "execution_count": null,
      "outputs": [
        {
          "output_type": "execute_result",
          "data": {
            "text/plain": [
              "array([[1, 2],\n",
              "       [3, 5],\n",
              "       [2, 0],\n",
              "       [4, 5]])"
            ]
          },
          "metadata": {
            "tags": []
          },
          "execution_count": 6
        }
      ]
    },
    {
      "cell_type": "code",
      "metadata": {
        "id": "ntHzUbhxt1Km",
        "colab_type": "code",
        "colab": {
          "base_uri": "https://localhost:8080/",
          "height": 50
        },
        "outputId": "125fef0e-4699-4648-b170-f21376d368ca"
      },
      "source": [
        "np2.T"
      ],
      "execution_count": null,
      "outputs": [
        {
          "output_type": "execute_result",
          "data": {
            "text/plain": [
              "array([[1, 3, 2, 4],\n",
              "       [2, 5, 0, 5]])"
            ]
          },
          "metadata": {
            "tags": []
          },
          "execution_count": 7
        }
      ]
    },
    {
      "cell_type": "code",
      "metadata": {
        "id": "hQzaoor7uCUl",
        "colab_type": "code",
        "colab": {
          "base_uri": "https://localhost:8080/",
          "height": 34
        },
        "outputId": "bbd8a2f8-4204-450e-989c-a2cee39947fb"
      },
      "source": [
        "np2[0,:]"
      ],
      "execution_count": null,
      "outputs": [
        {
          "output_type": "execute_result",
          "data": {
            "text/plain": [
              "array([1, 2])"
            ]
          },
          "metadata": {
            "tags": []
          },
          "execution_count": 8
        }
      ]
    },
    {
      "cell_type": "markdown",
      "metadata": {
        "id": "CumJe4Qwup19",
        "colab_type": "text"
      },
      "source": [
        "## HW 6 \n",
        "สร้าง Distance metrix (Euclidean) ของ np2\n",
        "\n",
        "โดยสร้าง function สำหรับคำนวณ Euclidean Distance\n",
        "\n",
        "``` \n",
        "def Euclidean(data1,data2): \n",
        "    #process\n",
        "    return dist\n",
        "```"
      ]
    },
    {
      "cell_type": "code",
      "metadata": {
        "id": "zVHd0B2tuXjK",
        "colab_type": "code",
        "colab": {}
      },
      "source": [
        "def Manhattan(data1,data2):\n",
        "    distX = abs(data1[0]-data2[0])\n",
        "    distY = abs(data1[1]-data2[1])\n",
        "    return distX+distY"
      ],
      "execution_count": null,
      "outputs": []
    },
    {
      "cell_type": "code",
      "metadata": {
        "id": "gDXFlFIvwTft",
        "colab_type": "code",
        "colab": {
          "base_uri": "https://localhost:8080/",
          "height": 34
        },
        "outputId": "25c0d4b0-a711-43f1-9fb0-dc1101c022e5"
      },
      "source": [
        "Manhattan(np2[0,:],np2[1,:])"
      ],
      "execution_count": null,
      "outputs": [
        {
          "output_type": "execute_result",
          "data": {
            "text/plain": [
              "5"
            ]
          },
          "metadata": {
            "tags": []
          },
          "execution_count": 22
        }
      ]
    },
    {
      "cell_type": "code",
      "metadata": {
        "id": "TIeV0-j5wdqA",
        "colab_type": "code",
        "colab": {
          "base_uri": "https://localhost:8080/",
          "height": 84
        },
        "outputId": "af02e6be-eaae-46df-c9f3-c7d7fbf42a1b"
      },
      "source": [
        "dist_mat = np.zeros((4,4))\n",
        "dist_mat"
      ],
      "execution_count": null,
      "outputs": [
        {
          "output_type": "execute_result",
          "data": {
            "text/plain": [
              "array([[0., 0., 0., 0.],\n",
              "       [0., 0., 0., 0.],\n",
              "       [0., 0., 0., 0.],\n",
              "       [0., 0., 0., 0.]])"
            ]
          },
          "metadata": {
            "tags": []
          },
          "execution_count": 26
        }
      ]
    },
    {
      "cell_type": "code",
      "metadata": {
        "id": "4A1YEhXzya09",
        "colab_type": "code",
        "colab": {
          "base_uri": "https://localhost:8080/",
          "height": 84
        },
        "outputId": "528e44a8-d167-4906-993f-f1ecdd3c9513"
      },
      "source": [
        "for i in range(4):\n",
        "    for j in range(4):\n",
        "        dist_mat[i,j] = Manhattan(np2[i,:],np2[j,:])\n",
        "\n",
        "dist_mat"
      ],
      "execution_count": null,
      "outputs": [
        {
          "output_type": "execute_result",
          "data": {
            "text/plain": [
              "array([[0., 5., 3., 6.],\n",
              "       [5., 0., 6., 1.],\n",
              "       [3., 6., 0., 7.],\n",
              "       [6., 1., 7., 0.]])"
            ]
          },
          "metadata": {
            "tags": []
          },
          "execution_count": 27
        }
      ]
    },
    {
      "cell_type": "code",
      "metadata": {
        "id": "WAhjjtonzdAM",
        "colab_type": "code",
        "colab": {
          "base_uri": "https://localhost:8080/",
          "height": 34
        },
        "outputId": "44cc8306-f92b-4bd8-dcb6-94c0c977c7f4"
      },
      "source": [
        "np2.shape"
      ],
      "execution_count": null,
      "outputs": [
        {
          "output_type": "execute_result",
          "data": {
            "text/plain": [
              "(4, 2)"
            ]
          },
          "metadata": {
            "tags": []
          },
          "execution_count": 28
        }
      ]
    },
    {
      "cell_type": "markdown",
      "metadata": {
        "id": "vrUy3YnBsYuB",
        "colab_type": "text"
      },
      "source": [
        "# Distance of nominal or categorical features"
      ]
    },
    {
      "cell_type": "markdown",
      "metadata": {
        "id": "0HIk7K6BtYLT",
        "colab_type": "text"
      },
      "source": [
        "### (extra) Python data structure (Dictionary)"
      ]
    },
    {
      "cell_type": "code",
      "metadata": {
        "id": "Te4Ak5iY0NF4",
        "colab_type": "code",
        "colab": {}
      },
      "source": [
        "d_A = {'a':1,2:3,3:5,'cat':6}"
      ],
      "execution_count": 1,
      "outputs": []
    },
    {
      "cell_type": "code",
      "metadata": {
        "id": "w9UtQQrRt-WY",
        "colab_type": "code",
        "colab": {
          "base_uri": "https://localhost:8080/",
          "height": 34
        },
        "outputId": "7e633adf-c3b0-4e5e-fe9a-f9ce512c5d48"
      },
      "source": [
        "d_A"
      ],
      "execution_count": 2,
      "outputs": [
        {
          "output_type": "execute_result",
          "data": {
            "text/plain": [
              "{2: 3, 3: 5, 'a': 1, 'cat': 6}"
            ]
          },
          "metadata": {
            "tags": []
          },
          "execution_count": 2
        }
      ]
    },
    {
      "cell_type": "code",
      "metadata": {
        "id": "lyyinrHmuDt-",
        "colab_type": "code",
        "colab": {
          "base_uri": "https://localhost:8080/",
          "height": 34
        },
        "outputId": "bf6dbbad-413f-4d26-d005-f05b72cc9553"
      },
      "source": [
        "d_A['cat']"
      ],
      "execution_count": 3,
      "outputs": [
        {
          "output_type": "execute_result",
          "data": {
            "text/plain": [
              "6"
            ]
          },
          "metadata": {
            "tags": []
          },
          "execution_count": 3
        }
      ]
    },
    {
      "cell_type": "code",
      "metadata": {
        "id": "YM0m8c7ZuWx3",
        "colab_type": "code",
        "colab": {}
      },
      "source": [
        "d_A['dog'] = [1,2,3,4,5]"
      ],
      "execution_count": 4,
      "outputs": []
    },
    {
      "cell_type": "code",
      "metadata": {
        "id": "uKhl18oquy00",
        "colab_type": "code",
        "colab": {
          "base_uri": "https://localhost:8080/",
          "height": 34
        },
        "outputId": "def5511a-e389-44e4-b48a-5156a49aa58c"
      },
      "source": [
        "d_A"
      ],
      "execution_count": 5,
      "outputs": [
        {
          "output_type": "execute_result",
          "data": {
            "text/plain": [
              "{2: 3, 3: 5, 'a': 1, 'cat': 6, 'dog': [1, 2, 3, 4, 5]}"
            ]
          },
          "metadata": {
            "tags": []
          },
          "execution_count": 5
        }
      ]
    },
    {
      "cell_type": "code",
      "metadata": {
        "id": "h9NKtztEuztS",
        "colab_type": "code",
        "colab": {}
      },
      "source": [
        "del d_A[2]"
      ],
      "execution_count": 6,
      "outputs": []
    },
    {
      "cell_type": "code",
      "metadata": {
        "id": "AtULys21vwhV",
        "colab_type": "code",
        "colab": {
          "base_uri": "https://localhost:8080/",
          "height": 34
        },
        "outputId": "0c0ff7af-c168-47c7-cc4a-31343192861d"
      },
      "source": [
        "d_A"
      ],
      "execution_count": 7,
      "outputs": [
        {
          "output_type": "execute_result",
          "data": {
            "text/plain": [
              "{3: 5, 'a': 1, 'cat': 6, 'dog': [1, 2, 3, 4, 5]}"
            ]
          },
          "metadata": {
            "tags": []
          },
          "execution_count": 7
        }
      ]
    },
    {
      "cell_type": "code",
      "metadata": {
        "id": "zv0eIjFNvxWo",
        "colab_type": "code",
        "colab": {}
      },
      "source": [
        "import pandas as pd"
      ],
      "execution_count": 8,
      "outputs": []
    },
    {
      "cell_type": "code",
      "metadata": {
        "id": "_TnAh8nGwrot",
        "colab_type": "code",
        "colab": {
          "base_uri": "https://localhost:8080/",
          "height": 34
        },
        "outputId": "cffe5abf-cfb0-44aa-c73b-4fabab59185d"
      },
      "source": [
        "data_dict = {'color':['red','red','green'], #color = {'red','green','blue'}\n",
        "             'status':['single','married','single']} #status = {'single','married','divorced'}\n",
        "data_dict"
      ],
      "execution_count": 9,
      "outputs": [
        {
          "output_type": "execute_result",
          "data": {
            "text/plain": [
              "{'color': ['red', 'red', 'green'], 'status': ['single', 'married', 'single']}"
            ]
          },
          "metadata": {
            "tags": []
          },
          "execution_count": 9
        }
      ]
    },
    {
      "cell_type": "code",
      "metadata": {
        "id": "hs4vRwXSxO9w",
        "colab_type": "code",
        "colab": {
          "base_uri": "https://localhost:8080/",
          "height": 136
        },
        "outputId": "7f9fe904-8252-45ea-c6e5-e58dfc7395dc"
      },
      "source": [
        "data_pd = pd.DataFrame.from_dict(data_dict)\n",
        "data_pd"
      ],
      "execution_count": 10,
      "outputs": [
        {
          "output_type": "execute_result",
          "data": {
            "text/html": [
              "<div>\n",
              "<style scoped>\n",
              "    .dataframe tbody tr th:only-of-type {\n",
              "        vertical-align: middle;\n",
              "    }\n",
              "\n",
              "    .dataframe tbody tr th {\n",
              "        vertical-align: top;\n",
              "    }\n",
              "\n",
              "    .dataframe thead th {\n",
              "        text-align: right;\n",
              "    }\n",
              "</style>\n",
              "<table border=\"1\" class=\"dataframe\">\n",
              "  <thead>\n",
              "    <tr style=\"text-align: right;\">\n",
              "      <th></th>\n",
              "      <th>color</th>\n",
              "      <th>status</th>\n",
              "    </tr>\n",
              "  </thead>\n",
              "  <tbody>\n",
              "    <tr>\n",
              "      <th>0</th>\n",
              "      <td>red</td>\n",
              "      <td>single</td>\n",
              "    </tr>\n",
              "    <tr>\n",
              "      <th>1</th>\n",
              "      <td>red</td>\n",
              "      <td>married</td>\n",
              "    </tr>\n",
              "    <tr>\n",
              "      <th>2</th>\n",
              "      <td>green</td>\n",
              "      <td>single</td>\n",
              "    </tr>\n",
              "  </tbody>\n",
              "</table>\n",
              "</div>"
            ],
            "text/plain": [
              "   color   status\n",
              "0    red   single\n",
              "1    red  married\n",
              "2  green   single"
            ]
          },
          "metadata": {
            "tags": []
          },
          "execution_count": 10
        }
      ]
    },
    {
      "cell_type": "markdown",
      "metadata": {
        "id": "T-REe_nWyVgJ",
        "colab_type": "text"
      },
      "source": [
        "## Categorical feature distance method#1"
      ]
    },
    {
      "cell_type": "code",
      "metadata": {
        "id": "Vu61ob1Dx870",
        "colab_type": "code",
        "colab": {
          "base_uri": "https://localhost:8080/",
          "height": 34
        },
        "outputId": "c189cd40-35ef-48fa-c573-a2257e950ea5"
      },
      "source": [
        "list(data_pd.iloc[1,:])"
      ],
      "execution_count": 11,
      "outputs": [
        {
          "output_type": "execute_result",
          "data": {
            "text/plain": [
              "['red', 'married']"
            ]
          },
          "metadata": {
            "tags": []
          },
          "execution_count": 11
        }
      ]
    },
    {
      "cell_type": "code",
      "metadata": {
        "id": "UJgtEpJrywai",
        "colab_type": "code",
        "colab": {}
      },
      "source": [
        "def meth1_dist(data1,data2):\n",
        "    N = 0\n",
        "    print(f'data1 is {data1} and data2 is {data2}')\n",
        "    for i in range(len(data1)):\n",
        "        print(f'feature{i} of data1 is {data1[i]} , feature{i} of data2 is {data2[i]}')\n",
        "        if data1[i] != data2[i]:\n",
        "            N = N+1\n",
        "            print(f'   {data1[i]} is not equal {data2[i]} : updated ({N})')\n",
        "        else:\n",
        "            print(f'   {data1[i]} is equal {data2[i]}')\n",
        "    return N/len(data1)"
      ],
      "execution_count": 14,
      "outputs": []
    },
    {
      "cell_type": "code",
      "metadata": {
        "id": "pnFfx11g0E_i",
        "colab_type": "code",
        "colab": {
          "base_uri": "https://localhost:8080/",
          "height": 118
        },
        "outputId": "8de46610-32bd-4375-fffb-58be7bf00773"
      },
      "source": [
        "meth1_dist(list(data_pd.iloc[0,:]),list(data_pd.iloc[1,:]))"
      ],
      "execution_count": 15,
      "outputs": [
        {
          "output_type": "stream",
          "text": [
            "data1 is ['red', 'single'] and data2 is ['red', 'married']\n",
            "feature0 of data1 is red , feature0 of data2 is red\n",
            "   red is equal red\n",
            "feature1 of data1 is single , feature1 of data2 is married\n",
            "   single is not equal married : updated (1)\n"
          ],
          "name": "stdout"
        },
        {
          "output_type": "execute_result",
          "data": {
            "text/plain": [
              "0.5"
            ]
          },
          "metadata": {
            "tags": []
          },
          "execution_count": 15
        }
      ]
    },
    {
      "cell_type": "markdown",
      "metadata": {
        "id": "PsXl8v922jYu",
        "colab_type": "text"
      },
      "source": [
        "##Ex7 calculate distance matrix of data_pd using ```meth1_dist()```"
      ]
    },
    {
      "cell_type": "markdown",
      "metadata": {
        "id": "XaCqexdZ27Jm",
        "colab_type": "text"
      },
      "source": [
        "## Categorical feature distance method#2"
      ]
    },
    {
      "cell_type": "code",
      "metadata": {
        "id": "GiLgfs2vsBjV",
        "colab_type": "code",
        "colab": {
          "base_uri": "https://localhost:8080/",
          "height": 166
        },
        "outputId": "a08d791e-737e-4c57-da02-a83c9350939d"
      },
      "source": [
        "data_dict2 = {'color':['red','red','green','blue'], #color = {'red','green','blue'}\n",
        "             'status':['single','married','single','divorced']} #status = {'single','married','divorced'}\n",
        "data_pd2 = pd.DataFrame.from_dict(data_dict2)\n",
        "data_pd2"
      ],
      "execution_count": 18,
      "outputs": [
        {
          "output_type": "execute_result",
          "data": {
            "text/html": [
              "<div>\n",
              "<style scoped>\n",
              "    .dataframe tbody tr th:only-of-type {\n",
              "        vertical-align: middle;\n",
              "    }\n",
              "\n",
              "    .dataframe tbody tr th {\n",
              "        vertical-align: top;\n",
              "    }\n",
              "\n",
              "    .dataframe thead th {\n",
              "        text-align: right;\n",
              "    }\n",
              "</style>\n",
              "<table border=\"1\" class=\"dataframe\">\n",
              "  <thead>\n",
              "    <tr style=\"text-align: right;\">\n",
              "      <th></th>\n",
              "      <th>color</th>\n",
              "      <th>status</th>\n",
              "    </tr>\n",
              "  </thead>\n",
              "  <tbody>\n",
              "    <tr>\n",
              "      <th>0</th>\n",
              "      <td>red</td>\n",
              "      <td>single</td>\n",
              "    </tr>\n",
              "    <tr>\n",
              "      <th>1</th>\n",
              "      <td>red</td>\n",
              "      <td>married</td>\n",
              "    </tr>\n",
              "    <tr>\n",
              "      <th>2</th>\n",
              "      <td>green</td>\n",
              "      <td>single</td>\n",
              "    </tr>\n",
              "    <tr>\n",
              "      <th>3</th>\n",
              "      <td>blue</td>\n",
              "      <td>divorced</td>\n",
              "    </tr>\n",
              "  </tbody>\n",
              "</table>\n",
              "</div>"
            ],
            "text/plain": [
              "   color    status\n",
              "0    red    single\n",
              "1    red   married\n",
              "2  green    single\n",
              "3   blue  divorced"
            ]
          },
          "metadata": {
            "tags": []
          },
          "execution_count": 18
        }
      ]
    },
    {
      "cell_type": "code",
      "metadata": {
        "id": "6JZdQQ_t0qvT",
        "colab_type": "code",
        "colab": {
          "base_uri": "https://localhost:8080/",
          "height": 136
        },
        "outputId": "135da862-a037-4407-dad6-20d5e33be3a5"
      },
      "source": [
        "data_pd_binary = pd.get_dummies(data_pd2)\n",
        "data_pd_binary = data_pd_binary.iloc[:3,:]\n",
        "data_pd_binary"
      ],
      "execution_count": 22,
      "outputs": [
        {
          "output_type": "execute_result",
          "data": {
            "text/html": [
              "<div>\n",
              "<style scoped>\n",
              "    .dataframe tbody tr th:only-of-type {\n",
              "        vertical-align: middle;\n",
              "    }\n",
              "\n",
              "    .dataframe tbody tr th {\n",
              "        vertical-align: top;\n",
              "    }\n",
              "\n",
              "    .dataframe thead th {\n",
              "        text-align: right;\n",
              "    }\n",
              "</style>\n",
              "<table border=\"1\" class=\"dataframe\">\n",
              "  <thead>\n",
              "    <tr style=\"text-align: right;\">\n",
              "      <th></th>\n",
              "      <th>color_blue</th>\n",
              "      <th>color_green</th>\n",
              "      <th>color_red</th>\n",
              "      <th>status_divorced</th>\n",
              "      <th>status_married</th>\n",
              "      <th>status_single</th>\n",
              "    </tr>\n",
              "  </thead>\n",
              "  <tbody>\n",
              "    <tr>\n",
              "      <th>0</th>\n",
              "      <td>0</td>\n",
              "      <td>0</td>\n",
              "      <td>1</td>\n",
              "      <td>0</td>\n",
              "      <td>0</td>\n",
              "      <td>1</td>\n",
              "    </tr>\n",
              "    <tr>\n",
              "      <th>1</th>\n",
              "      <td>0</td>\n",
              "      <td>0</td>\n",
              "      <td>1</td>\n",
              "      <td>0</td>\n",
              "      <td>1</td>\n",
              "      <td>0</td>\n",
              "    </tr>\n",
              "    <tr>\n",
              "      <th>2</th>\n",
              "      <td>0</td>\n",
              "      <td>1</td>\n",
              "      <td>0</td>\n",
              "      <td>0</td>\n",
              "      <td>0</td>\n",
              "      <td>1</td>\n",
              "    </tr>\n",
              "  </tbody>\n",
              "</table>\n",
              "</div>"
            ],
            "text/plain": [
              "   color_blue  color_green  ...  status_married  status_single\n",
              "0           0            0  ...               0              1\n",
              "1           0            0  ...               1              0\n",
              "2           0            1  ...               0              1\n",
              "\n",
              "[3 rows x 6 columns]"
            ]
          },
          "metadata": {
            "tags": []
          },
          "execution_count": 22
        }
      ]
    },
    {
      "cell_type": "code",
      "metadata": {
        "id": "o7z4Et45n4C4",
        "colab_type": "code",
        "colab": {}
      },
      "source": [
        "def binary_sym_dist(data1,data2):\n",
        "    r = 0\n",
        "    s = 0\n",
        "    t = 0\n",
        "    q = 0\n",
        "    for i in range(len(data1)):\n",
        "        if data1[i] != data2[i]:\n",
        "            if data1[i] == 0:\n",
        "                s = s + 1\n",
        "            else:\n",
        "                r = r +1\n",
        "        else:\n",
        "            if data1[i] == 0:\n",
        "                t = t + 1\n",
        "            else:\n",
        "                q = q + 1\n",
        "    \n",
        "    return (r+s)/(r+s+t+q)"
      ],
      "execution_count": 23,
      "outputs": []
    },
    {
      "cell_type": "code",
      "metadata": {
        "id": "5s5GlyUI53eI",
        "colab_type": "code",
        "colab": {
          "base_uri": "https://localhost:8080/",
          "height": 34
        },
        "outputId": "c209d4af-2c1e-471c-e6bc-45ec31461c80"
      },
      "source": [
        "binary_sym_dist(list(data_pd_binary.iloc[0,:]),list(data_pd_binary.iloc[1,:]))"
      ],
      "execution_count": 24,
      "outputs": [
        {
          "output_type": "execute_result",
          "data": {
            "text/plain": [
              "0.3333333333333333"
            ]
          },
          "metadata": {
            "tags": []
          },
          "execution_count": 24
        }
      ]
    },
    {
      "cell_type": "markdown",
      "metadata": {
        "id": "iESKy9757u9j",
        "colab_type": "text"
      },
      "source": [
        "##HW8 calculate distance matrix of data_pd_binary using ```binary_sym_dist()```"
      ]
    },
    {
      "cell_type": "code",
      "metadata": {
        "id": "AtzL58yGn4WP",
        "colab_type": "code",
        "colab": {}
      },
      "source": [
        ""
      ],
      "execution_count": null,
      "outputs": []
    },
    {
      "cell_type": "code",
      "metadata": {
        "id": "AYqYjXxcn4yN",
        "colab_type": "code",
        "colab": {}
      },
      "source": [
        ""
      ],
      "execution_count": null,
      "outputs": []
    },
    {
      "cell_type": "code",
      "metadata": {
        "id": "77fzTDW8n4md",
        "colab_type": "code",
        "colab": {}
      },
      "source": [
        ""
      ],
      "execution_count": null,
      "outputs": []
    },
    {
      "cell_type": "code",
      "metadata": {
        "id": "l-ebk2_Yn4KH",
        "colab_type": "code",
        "colab": {}
      },
      "source": [
        ""
      ],
      "execution_count": null,
      "outputs": []
    },
    {
      "cell_type": "code",
      "metadata": {
        "id": "A0QInAbHn3zs",
        "colab_type": "code",
        "colab": {}
      },
      "source": [
        ""
      ],
      "execution_count": null,
      "outputs": []
    },
    {
      "cell_type": "code",
      "metadata": {
        "id": "yfJTKylB6sF4",
        "colab_type": "code",
        "colab": {}
      },
      "source": [
        ""
      ],
      "execution_count": null,
      "outputs": []
    }
  ]
}