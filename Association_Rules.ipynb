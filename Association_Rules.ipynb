{
  "nbformat": 4,
  "nbformat_minor": 0,
  "metadata": {
    "colab": {
      "name": "Association Rules.ipynb",
      "provenance": [],
      "authorship_tag": "ABX9TyNIWD7qko8N1dllCnaiRVrH",
      "include_colab_link": true
    },
    "kernelspec": {
      "name": "python3",
      "display_name": "Python 3"
    }
  },
  "cells": [
    {
      "cell_type": "markdown",
      "metadata": {
        "id": "view-in-github",
        "colab_type": "text"
      },
      "source": [
        "<a href=\"https://colab.research.google.com/github/tohnperfect/DPDM/blob/master/Association_Rules.ipynb\" target=\"_parent\"><img src=\"https://colab.research.google.com/assets/colab-badge.svg\" alt=\"Open In Colab\"/></a>"
      ]
    },
    {
      "cell_type": "code",
      "metadata": {
        "id": "ki8ceOaDd5hf"
      },
      "source": [
        "import pandas as pd"
      ],
      "execution_count": 1,
      "outputs": []
    },
    {
      "cell_type": "markdown",
      "metadata": {
        "id": "DqKaFOqcdzQt"
      },
      "source": [
        "## Connect to drive"
      ]
    },
    {
      "cell_type": "code",
      "metadata": {
        "id": "NJGpgouzceoA",
        "outputId": "085de4cc-5471-473a-9dd9-84db978fa0b4",
        "colab": {
          "base_uri": "https://localhost:8080/",
          "height": 34
        }
      },
      "source": [
        "from google.colab import drive\n",
        "drive.mount('/content/drive')\n",
        "\n",
        "path = '/content/drive/My Drive/DWDM_material'"
      ],
      "execution_count": 2,
      "outputs": [
        {
          "output_type": "stream",
          "text": [
            "Mounted at /content/drive\n"
          ],
          "name": "stdout"
        }
      ]
    },
    {
      "cell_type": "code",
      "metadata": {
        "id": "JC-k13V2eA--",
        "outputId": "d89c3bbc-a78a-44a7-dd13-6c01b6e254a7",
        "colab": {
          "base_uri": "https://localhost:8080/",
          "height": 402
        }
      },
      "source": [
        "import os   \n",
        "data = pd.read_csv(os.path.join(path,'reduced_marketbasket.csv'),encoding='latin1')\n",
        "data"
      ],
      "execution_count": 3,
      "outputs": [
        {
          "output_type": "execute_result",
          "data": {
            "text/html": [
              "<div>\n",
              "<style scoped>\n",
              "    .dataframe tbody tr th:only-of-type {\n",
              "        vertical-align: middle;\n",
              "    }\n",
              "\n",
              "    .dataframe tbody tr th {\n",
              "        vertical-align: top;\n",
              "    }\n",
              "\n",
              "    .dataframe thead th {\n",
              "        text-align: right;\n",
              "    }\n",
              "</style>\n",
              "<table border=\"1\" class=\"dataframe\">\n",
              "  <thead>\n",
              "    <tr style=\"text-align: right;\">\n",
              "      <th></th>\n",
              "      <th>InvoiceNo</th>\n",
              "      <th>StockCode</th>\n",
              "      <th>Description</th>\n",
              "      <th>Quantity</th>\n",
              "      <th>InvoiceDate</th>\n",
              "      <th>UnitPrice</th>\n",
              "      <th>CustomerID</th>\n",
              "      <th>Country</th>\n",
              "    </tr>\n",
              "  </thead>\n",
              "  <tbody>\n",
              "    <tr>\n",
              "      <th>0</th>\n",
              "      <td>536365</td>\n",
              "      <td>85123A</td>\n",
              "      <td>WHITE HANGING HEART T-LIGHT HOLDER</td>\n",
              "      <td>6</td>\n",
              "      <td>12/01/2010 08:26</td>\n",
              "      <td>2.55</td>\n",
              "      <td>17850.0</td>\n",
              "      <td>United Kingdom</td>\n",
              "    </tr>\n",
              "    <tr>\n",
              "      <th>1</th>\n",
              "      <td>536365</td>\n",
              "      <td>71053</td>\n",
              "      <td>WHITE METAL LANTERN</td>\n",
              "      <td>6</td>\n",
              "      <td>12/01/2010 08:26</td>\n",
              "      <td>3.39</td>\n",
              "      <td>17850.0</td>\n",
              "      <td>United Kingdom</td>\n",
              "    </tr>\n",
              "    <tr>\n",
              "      <th>2</th>\n",
              "      <td>536365</td>\n",
              "      <td>84406B</td>\n",
              "      <td>CREAM CUPID HEARTS COAT HANGER</td>\n",
              "      <td>8</td>\n",
              "      <td>12/01/2010 08:26</td>\n",
              "      <td>2.75</td>\n",
              "      <td>17850.0</td>\n",
              "      <td>United Kingdom</td>\n",
              "    </tr>\n",
              "    <tr>\n",
              "      <th>3</th>\n",
              "      <td>536365</td>\n",
              "      <td>84029G</td>\n",
              "      <td>KNITTED UNION FLAG HOT WATER BOTTLE</td>\n",
              "      <td>6</td>\n",
              "      <td>12/01/2010 08:26</td>\n",
              "      <td>3.39</td>\n",
              "      <td>17850.0</td>\n",
              "      <td>United Kingdom</td>\n",
              "    </tr>\n",
              "    <tr>\n",
              "      <th>4</th>\n",
              "      <td>536365</td>\n",
              "      <td>84029E</td>\n",
              "      <td>RED WOOLLY HOTTIE WHITE HEART.</td>\n",
              "      <td>6</td>\n",
              "      <td>12/01/2010 08:26</td>\n",
              "      <td>3.39</td>\n",
              "      <td>17850.0</td>\n",
              "      <td>United Kingdom</td>\n",
              "    </tr>\n",
              "    <tr>\n",
              "      <th>...</th>\n",
              "      <td>...</td>\n",
              "      <td>...</td>\n",
              "      <td>...</td>\n",
              "      <td>...</td>\n",
              "      <td>...</td>\n",
              "      <td>...</td>\n",
              "      <td>...</td>\n",
              "      <td>...</td>\n",
              "    </tr>\n",
              "    <tr>\n",
              "      <th>541904</th>\n",
              "      <td>581587</td>\n",
              "      <td>22613</td>\n",
              "      <td>PACK OF 20 SPACEBOY NAPKINS</td>\n",
              "      <td>12</td>\n",
              "      <td>12/09/2011 12:50</td>\n",
              "      <td>0.85</td>\n",
              "      <td>12680.0</td>\n",
              "      <td>France</td>\n",
              "    </tr>\n",
              "    <tr>\n",
              "      <th>541905</th>\n",
              "      <td>581587</td>\n",
              "      <td>22899</td>\n",
              "      <td>CHILDREN'S APRON DOLLY GIRL</td>\n",
              "      <td>6</td>\n",
              "      <td>12/09/2011 12:50</td>\n",
              "      <td>2.10</td>\n",
              "      <td>12680.0</td>\n",
              "      <td>France</td>\n",
              "    </tr>\n",
              "    <tr>\n",
              "      <th>541906</th>\n",
              "      <td>581587</td>\n",
              "      <td>23254</td>\n",
              "      <td>CHILDRENS CUTLERY DOLLY GIRL</td>\n",
              "      <td>4</td>\n",
              "      <td>12/09/2011 12:50</td>\n",
              "      <td>4.15</td>\n",
              "      <td>12680.0</td>\n",
              "      <td>France</td>\n",
              "    </tr>\n",
              "    <tr>\n",
              "      <th>541907</th>\n",
              "      <td>581587</td>\n",
              "      <td>23255</td>\n",
              "      <td>CHILDRENS CUTLERY CIRCUS PARADE</td>\n",
              "      <td>4</td>\n",
              "      <td>12/09/2011 12:50</td>\n",
              "      <td>4.15</td>\n",
              "      <td>12680.0</td>\n",
              "      <td>France</td>\n",
              "    </tr>\n",
              "    <tr>\n",
              "      <th>541908</th>\n",
              "      <td>581587</td>\n",
              "      <td>22138</td>\n",
              "      <td>BAKING SET 9 PIECE RETROSPOT</td>\n",
              "      <td>3</td>\n",
              "      <td>12/09/2011 12:50</td>\n",
              "      <td>4.95</td>\n",
              "      <td>12680.0</td>\n",
              "      <td>France</td>\n",
              "    </tr>\n",
              "  </tbody>\n",
              "</table>\n",
              "<p>541909 rows × 8 columns</p>\n",
              "</div>"
            ],
            "text/plain": [
              "       InvoiceNo StockCode  ... CustomerID         Country\n",
              "0         536365    85123A  ...    17850.0  United Kingdom\n",
              "1         536365     71053  ...    17850.0  United Kingdom\n",
              "2         536365    84406B  ...    17850.0  United Kingdom\n",
              "3         536365    84029G  ...    17850.0  United Kingdom\n",
              "4         536365    84029E  ...    17850.0  United Kingdom\n",
              "...          ...       ...  ...        ...             ...\n",
              "541904    581587     22613  ...    12680.0          France\n",
              "541905    581587     22899  ...    12680.0          France\n",
              "541906    581587     23254  ...    12680.0          France\n",
              "541907    581587     23255  ...    12680.0          France\n",
              "541908    581587     22138  ...    12680.0          France\n",
              "\n",
              "[541909 rows x 8 columns]"
            ]
          },
          "metadata": {
            "tags": []
          },
          "execution_count": 3
        }
      ]
    },
    {
      "cell_type": "code",
      "metadata": {
        "id": "TNsp0HPsi9s7",
        "outputId": "e8405f3d-97e2-4220-a4c9-d45f9fe341ce",
        "colab": {
          "base_uri": "https://localhost:8080/",
          "height": 431
        }
      },
      "source": [
        "data.groupby('InvoiceNo').sum()"
      ],
      "execution_count": 4,
      "outputs": [
        {
          "output_type": "execute_result",
          "data": {
            "text/html": [
              "<div>\n",
              "<style scoped>\n",
              "    .dataframe tbody tr th:only-of-type {\n",
              "        vertical-align: middle;\n",
              "    }\n",
              "\n",
              "    .dataframe tbody tr th {\n",
              "        vertical-align: top;\n",
              "    }\n",
              "\n",
              "    .dataframe thead th {\n",
              "        text-align: right;\n",
              "    }\n",
              "</style>\n",
              "<table border=\"1\" class=\"dataframe\">\n",
              "  <thead>\n",
              "    <tr style=\"text-align: right;\">\n",
              "      <th></th>\n",
              "      <th>Quantity</th>\n",
              "      <th>UnitPrice</th>\n",
              "      <th>CustomerID</th>\n",
              "    </tr>\n",
              "    <tr>\n",
              "      <th>InvoiceNo</th>\n",
              "      <th></th>\n",
              "      <th></th>\n",
              "      <th></th>\n",
              "    </tr>\n",
              "  </thead>\n",
              "  <tbody>\n",
              "    <tr>\n",
              "      <th>536365</th>\n",
              "      <td>40</td>\n",
              "      <td>27.37</td>\n",
              "      <td>124950.0</td>\n",
              "    </tr>\n",
              "    <tr>\n",
              "      <th>536366</th>\n",
              "      <td>12</td>\n",
              "      <td>3.70</td>\n",
              "      <td>35700.0</td>\n",
              "    </tr>\n",
              "    <tr>\n",
              "      <th>536367</th>\n",
              "      <td>83</td>\n",
              "      <td>58.24</td>\n",
              "      <td>156564.0</td>\n",
              "    </tr>\n",
              "    <tr>\n",
              "      <th>536368</th>\n",
              "      <td>15</td>\n",
              "      <td>19.10</td>\n",
              "      <td>52188.0</td>\n",
              "    </tr>\n",
              "    <tr>\n",
              "      <th>536369</th>\n",
              "      <td>3</td>\n",
              "      <td>5.95</td>\n",
              "      <td>13047.0</td>\n",
              "    </tr>\n",
              "    <tr>\n",
              "      <th>...</th>\n",
              "      <td>...</td>\n",
              "      <td>...</td>\n",
              "      <td>...</td>\n",
              "    </tr>\n",
              "    <tr>\n",
              "      <th>C581484</th>\n",
              "      <td>-80995</td>\n",
              "      <td>2.08</td>\n",
              "      <td>16446.0</td>\n",
              "    </tr>\n",
              "    <tr>\n",
              "      <th>C581490</th>\n",
              "      <td>-23</td>\n",
              "      <td>2.78</td>\n",
              "      <td>28794.0</td>\n",
              "    </tr>\n",
              "    <tr>\n",
              "      <th>C581499</th>\n",
              "      <td>-1</td>\n",
              "      <td>224.69</td>\n",
              "      <td>15498.0</td>\n",
              "    </tr>\n",
              "    <tr>\n",
              "      <th>C581568</th>\n",
              "      <td>-5</td>\n",
              "      <td>10.95</td>\n",
              "      <td>15311.0</td>\n",
              "    </tr>\n",
              "    <tr>\n",
              "      <th>C581569</th>\n",
              "      <td>-6</td>\n",
              "      <td>2.50</td>\n",
              "      <td>34630.0</td>\n",
              "    </tr>\n",
              "  </tbody>\n",
              "</table>\n",
              "<p>25900 rows × 3 columns</p>\n",
              "</div>"
            ],
            "text/plain": [
              "           Quantity  UnitPrice  CustomerID\n",
              "InvoiceNo                                 \n",
              "536365           40      27.37    124950.0\n",
              "536366           12       3.70     35700.0\n",
              "536367           83      58.24    156564.0\n",
              "536368           15      19.10     52188.0\n",
              "536369            3       5.95     13047.0\n",
              "...             ...        ...         ...\n",
              "C581484      -80995       2.08     16446.0\n",
              "C581490         -23       2.78     28794.0\n",
              "C581499          -1     224.69     15498.0\n",
              "C581568          -5      10.95     15311.0\n",
              "C581569          -6       2.50     34630.0\n",
              "\n",
              "[25900 rows x 3 columns]"
            ]
          },
          "metadata": {
            "tags": []
          },
          "execution_count": 4
        }
      ]
    },
    {
      "cell_type": "code",
      "metadata": {
        "id": "9LYAvouBewtK",
        "outputId": "3c4640da-f881-412d-b8a8-8c62e0cc5619",
        "colab": {
          "base_uri": "https://localhost:8080/",
          "height": 235
        }
      },
      "source": [
        "transacs = data.groupby('InvoiceNo')['StockCode'].apply(list)\n",
        "transacs"
      ],
      "execution_count": 5,
      "outputs": [
        {
          "output_type": "execute_result",
          "data": {
            "text/plain": [
              "InvoiceNo\n",
              "536365     [85123A, 71053, 84406B, 84029G, 84029E, 22752,...\n",
              "536366                                        [22633, 22632]\n",
              "536367     [84879, 22745, 22748, 22749, 22310, 84969, 226...\n",
              "536368                          [22960, 22913, 22912, 22914]\n",
              "536369                                               [21756]\n",
              "                                 ...                        \n",
              "C581484                                              [23843]\n",
              "C581490                                       [22178, 23144]\n",
              "C581499                                                  [M]\n",
              "C581568                                              [21258]\n",
              "C581569                                       [84978, 20979]\n",
              "Name: StockCode, Length: 25900, dtype: object"
            ]
          },
          "metadata": {
            "tags": []
          },
          "execution_count": 5
        }
      ]
    },
    {
      "cell_type": "markdown",
      "metadata": {
        "id": "3EckT4nI6gzp"
      },
      "source": [
        "## Apriori\n",
        "http://zaxrosenberg.com/unofficial-apyori-documentation/"
      ]
    },
    {
      "cell_type": "code",
      "metadata": {
        "id": "-U-HD9LT6miU",
        "outputId": "746d3508-174c-489e-bd9a-67b0accc423c",
        "colab": {
          "base_uri": "https://localhost:8080/",
          "height": 168
        }
      },
      "source": [
        "!pip install apyori"
      ],
      "execution_count": 7,
      "outputs": [
        {
          "output_type": "stream",
          "text": [
            "Collecting apyori\n",
            "  Downloading https://files.pythonhosted.org/packages/5e/62/5ffde5c473ea4b033490617ec5caa80d59804875ad3c3c57c0976533a21a/apyori-1.1.2.tar.gz\n",
            "Building wheels for collected packages: apyori\n",
            "  Building wheel for apyori (setup.py) ... \u001b[?25l\u001b[?25hdone\n",
            "  Created wheel for apyori: filename=apyori-1.1.2-cp36-none-any.whl size=5975 sha256=491f8aa865ea514b3cfdeed320654a4d082117cb34d6d83b724d87ac944ddd84\n",
            "  Stored in directory: /root/.cache/pip/wheels/5d/92/bb/474bbadbc8c0062b9eb168f69982a0443263f8ab1711a8cad0\n",
            "Successfully built apyori\n",
            "Installing collected packages: apyori\n",
            "Successfully installed apyori-1.1.2\n"
          ],
          "name": "stdout"
        }
      ]
    },
    {
      "cell_type": "code",
      "metadata": {
        "id": "robgMrQfiqF_"
      },
      "source": [
        "from apyori import apriori"
      ],
      "execution_count": 8,
      "outputs": []
    },
    {
      "cell_type": "code",
      "metadata": {
        "id": "owHzZdCt6k5j",
        "outputId": "9e1eb992-096c-40d0-d52c-c4ebb97bb1e1",
        "colab": {
          "base_uri": "https://localhost:8080/",
          "height": 642
        }
      },
      "source": [
        "list(apriori(transacs, min_support = 0.02, min_confidence = 0.1))"
      ],
      "execution_count": 14,
      "outputs": [
        {
          "output_type": "execute_result",
          "data": {
            "text/plain": [
              "[RelationRecord(items=frozenset({'20712', '85099B'}), support=0.020772200772200773, ordered_statistics=[OrderedStatistic(items_base=frozenset({'20712'}), items_add=frozenset({'85099B'}), confidence=0.6169724770642203, lift=7.48458414799218), OrderedStatistic(items_base=frozenset({'85099B'}), items_add=frozenset({'20712'}), confidence=0.25199063231850116, lift=7.484584147992179)]),\n",
              " RelationRecord(items=frozenset({'22356', '20724'}), support=0.020308880308880308, ordered_statistics=[OrderedStatistic(items_base=frozenset({'20724'}), items_add=frozenset({'22356'}), confidence=0.5009523809523809, lift=17.0719298245614), OrderedStatistic(items_base=frozenset({'22356'}), items_add=frozenset({'20724'}), confidence=0.6921052631578947, lift=17.0719298245614)]),\n",
              " RelationRecord(items=frozenset({'20726', '20725'}), support=0.02054054054054054, ordered_statistics=[OrderedStatistic(items_base=frozenset({'20725'}), items_add=frozenset({'20726'}), confidence=0.3308457711442786, lift=8.263168247480053), OrderedStatistic(items_base=frozenset({'20726'}), items_add=frozenset({'20725'}), confidence=0.5130183220829314, lift=8.263168247480053)]),\n",
              " RelationRecord(items=frozenset({'20725', '20727'}), support=0.025019305019305018, ordered_statistics=[OrderedStatistic(items_base=frozenset({'20725'}), items_add=frozenset({'20727'}), confidence=0.40298507462686567, lift=8.059701492537313), OrderedStatistic(items_base=frozenset({'20727'}), items_add=frozenset({'20725'}), confidence=0.5003861003861003, lift=8.059701492537313)]),\n",
              " RelationRecord(items=frozenset({'20728', '20725'}), support=0.0216988416988417, ordered_statistics=[OrderedStatistic(items_base=frozenset({'20725'}), items_add=frozenset({'20728'}), confidence=0.34950248756218905, lift=7.717062598346714), OrderedStatistic(items_base=frozenset({'20728'}), items_add=frozenset({'20725'}), confidence=0.47911338448422847, lift=7.717062598346715)]),\n",
              " RelationRecord(items=frozenset({'22382', '20725'}), support=0.021737451737451736, ordered_statistics=[OrderedStatistic(items_base=frozenset({'20725'}), items_add=frozenset({'22382'}), confidence=0.35012437810945274, lift=7.750616575243441), OrderedStatistic(items_base=frozenset({'22382'}), items_add=frozenset({'20725'}), confidence=0.4811965811965812, lift=7.750616575243441)]),\n",
              " RelationRecord(items=frozenset({'22383', '20725'}), support=0.0255984555984556, ordered_statistics=[OrderedStatistic(items_base=frozenset({'20725'}), items_add=frozenset({'22383'}), confidence=0.41231343283582095, lift=8.176813101414826), OrderedStatistic(items_base=frozenset({'22383'}), items_add=frozenset({'20725'}), confidence=0.5076569678407351, lift=8.176813101414826)]),\n",
              " RelationRecord(items=frozenset({'22384', '20725'}), support=0.023667953667953667, ordered_statistics=[OrderedStatistic(items_base=frozenset({'20725'}), items_add=frozenset({'22384'}), confidence=0.3812189054726368, lift=8.895107794361525), OrderedStatistic(items_base=frozenset({'22384'}), items_add=frozenset({'20725'}), confidence=0.5522522522522522, lift=8.895107794361524)]),\n",
              " RelationRecord(items=frozenset({'85099B', '20725'}), support=0.022702702702702703, ordered_statistics=[OrderedStatistic(items_base=frozenset({'20725'}), items_add=frozenset({'85099B'}), confidence=0.3656716417910448, lift=4.436016638120871), OrderedStatistic(items_base=frozenset({'85099B'}), items_add=frozenset({'20725'}), confidence=0.2754098360655738, lift=4.436016638120871)]),\n",
              " RelationRecord(items=frozenset({'20728', '20727'}), support=0.020308880308880308, ordered_statistics=[OrderedStatistic(items_base=frozenset({'20727'}), items_add=frozenset({'20728'}), confidence=0.4061776061776061, lift=8.968456947996588), OrderedStatistic(items_base=frozenset({'20728'}), items_add=frozenset({'20727'}), confidence=0.44842284739982946, lift=8.96845694799659)]),\n",
              " RelationRecord(items=frozenset({'22383', '20727'}), support=0.022664092664092663, ordered_statistics=[OrderedStatistic(items_base=frozenset({'20727'}), items_add=frozenset({'22383'}), confidence=0.4532818532818532, lift=8.98928024502297), OrderedStatistic(items_base=frozenset({'22383'}), items_add=frozenset({'20727'}), confidence=0.4494640122511485, lift=8.98928024502297)]),\n",
              " RelationRecord(items=frozenset({'22384', '20727'}), support=0.02111969111969112, ordered_statistics=[OrderedStatistic(items_base=frozenset({'20727'}), items_add=frozenset({'22384'}), confidence=0.4223938223938224, lift=9.855855855855856), OrderedStatistic(items_base=frozenset({'22384'}), items_add=frozenset({'20727'}), confidence=0.4927927927927928, lift=9.855855855855856)]),\n",
              " RelationRecord(items=frozenset({'22383', '20728'}), support=0.021003861003861004, ordered_statistics=[OrderedStatistic(items_base=frozenset({'20728'}), items_add=frozenset({'22383'}), confidence=0.46376811594202894, lift=9.197239052755398), OrderedStatistic(items_base=frozenset({'22383'}), items_add=frozenset({'20728'}), confidence=0.4165390505359878, lift=9.197239052755398)]),\n",
              " RelationRecord(items=frozenset({'85099B', '21928'}), support=0.02108108108108108, ordered_statistics=[OrderedStatistic(items_base=frozenset({'21928'}), items_add=frozenset({'85099B'}), confidence=0.6691176470588236, lift=8.117164898746385), OrderedStatistic(items_base=frozenset({'85099B'}), items_add=frozenset({'21928'}), confidence=0.25573770491803277, lift=8.117164898746383)]),\n",
              " RelationRecord(items=frozenset({'85099B', '21929'}), support=0.020154440154440154, ordered_statistics=[OrderedStatistic(items_base=frozenset({'21929'}), items_add=frozenset({'85099B'}), confidence=0.5952109464082098, lift=7.220591808886479), OrderedStatistic(items_base=frozenset({'85099B'}), items_add=frozenset({'21929'}), confidence=0.24449648711943792, lift=7.220591808886479)]),\n",
              " RelationRecord(items=frozenset({'22386', '21931'}), support=0.02, ordered_statistics=[OrderedStatistic(items_base=frozenset({'21931'}), items_add=frozenset({'22386'}), confidence=0.4313072439633639, lift=9.074620323843318), OrderedStatistic(items_base=frozenset({'22386'}), items_add=frozenset({'21931'}), confidence=0.42079610073111295, lift=9.074620323843318)]),\n",
              " RelationRecord(items=frozenset({'22411', '21931'}), support=0.02027027027027027, ordered_statistics=[OrderedStatistic(items_base=frozenset({'21931'}), items_add=frozenset({'22411'}), confidence=0.43713572023313907, lift=9.538176203907584), OrderedStatistic(items_base=frozenset({'22411'}), items_add=frozenset({'21931'}), confidence=0.4422914911541702, lift=9.538176203907584)]),\n",
              " RelationRecord(items=frozenset({'85099B', '21931'}), support=0.0283011583011583, ordered_statistics=[OrderedStatistic(items_base=frozenset({'21931'}), items_add=frozenset({'85099B'}), confidence=0.6103247293921732, lift=7.403939340167346), OrderedStatistic(items_base=frozenset({'85099B'}), items_add=frozenset({'21931'}), confidence=0.3433255269320843, lift=7.403939340167347)]),\n",
              " RelationRecord(items=frozenset({'22910', '22086'}), support=0.02142857142857143, ordered_statistics=[OrderedStatistic(items_base=frozenset({'22086'}), items_add=frozenset({'22910'}), confidence=0.4743589743589744, lift=14.766703648915188), OrderedStatistic(items_base=frozenset({'22910'}), items_add=frozenset({'22086'}), confidence=0.6670673076923076, lift=14.766703648915186)]),\n",
              " RelationRecord(items=frozenset({'22383', '22382'}), support=0.020733590733590733, ordered_statistics=[OrderedStatistic(items_base=frozenset({'22382'}), items_add=frozenset({'22383'}), confidence=0.45897435897435895, lift=9.102171437546628), OrderedStatistic(items_base=frozenset({'22383'}), items_add=frozenset({'22382'}), confidence=0.4111791730474732, lift=9.102171437546628)]),\n",
              " RelationRecord(items=frozenset({'85099B', '22386'}), support=0.03216216216216216, ordered_statistics=[OrderedStatistic(items_base=frozenset({'22386'}), items_add=frozenset({'85099B'}), confidence=0.6766856214459789, lift=8.20897311262335), OrderedStatistic(items_base=frozenset({'85099B'}), items_add=frozenset({'22386'}), confidence=0.39016393442622943, lift=8.20897311262335)]),\n",
              " RelationRecord(items=frozenset({'85099B', '22411'}), support=0.02637065637065637, ordered_statistics=[OrderedStatistic(items_base=frozenset({'22411'}), items_add=frozenset({'85099B'}), confidence=0.5754001684919966, lift=6.980264339083237), OrderedStatistic(items_base=frozenset({'85099B'}), items_add=frozenset({'22411'}), confidence=0.31990632318501167, lift=6.980264339083237)]),\n",
              " RelationRecord(items=frozenset({'22697', '22423'}), support=0.02, ordered_statistics=[OrderedStatistic(items_base=frozenset({'22423'}), items_add=frozenset({'22697'}), confidence=0.2384898710865562, lift=5.843791543180516), OrderedStatistic(items_base=frozenset({'22697'}), items_add=frozenset({'22423'}), confidence=0.4900662251655629, lift=5.843791543180516)]),\n",
              " RelationRecord(items=frozenset({'22699', '22423'}), support=0.020733590733590733, ordered_statistics=[OrderedStatistic(items_base=frozenset({'22423'}), items_add=frozenset({'22699'}), confidence=0.2472375690607735, lift=5.717368784530387), OrderedStatistic(items_base=frozenset({'22699'}), items_add=frozenset({'22423'}), confidence=0.4794642857142857, lift=5.717368784530387)]),\n",
              " RelationRecord(items=frozenset({'22630', '22629'}), support=0.020772200772200773, ordered_statistics=[OrderedStatistic(items_base=frozenset({'22629'}), items_add=frozenset({'22630'}), confidence=0.5925110132158591, lift=17.844227025919476), OrderedStatistic(items_base=frozenset({'22630'}), items_add=frozenset({'22629'}), confidence=0.6255813953488373, lift=17.844227025919476)]),\n",
              " RelationRecord(items=frozenset({'22697', '22698'}), support=0.024864864864864864, ordered_statistics=[OrderedStatistic(items_base=frozenset({'22697'}), items_add=frozenset({'22698'}), confidence=0.609271523178808, lift=19.67597562385427), OrderedStatistic(items_base=frozenset({'22698'}), items_add=frozenset({'22697'}), confidence=0.8029925187032418, lift=19.67597562385427)]),\n",
              " RelationRecord(items=frozenset({'22697', '22699'}), support=0.03027027027027027, ordered_statistics=[OrderedStatistic(items_base=frozenset({'22697'}), items_add=frozenset({'22699'}), confidence=0.7417218543046358, lift=17.1523178807947), OrderedStatistic(items_base=frozenset({'22699'}), items_add=frozenset({'22697'}), confidence=0.7, lift=17.1523178807947)]),\n",
              " RelationRecord(items=frozenset({'22699', '22698'}), support=0.023706563706563707, ordered_statistics=[OrderedStatistic(items_base=frozenset({'22698'}), items_add=frozenset({'22699'}), confidence=0.7655860349127181, lift=17.704177057356606), OrderedStatistic(items_base=frozenset({'22699'}), items_add=frozenset({'22698'}), confidence=0.5482142857142857, lift=17.704177057356606)]),\n",
              " RelationRecord(items=frozenset({'22726', '22727'}), support=0.02494208494208494, ordered_statistics=[OrderedStatistic(items_base=frozenset({'22726'}), items_add=frozenset({'22727'}), confidence=0.6440677966101696, lift=15.431411593157623), OrderedStatistic(items_base=frozenset({'22727'}), items_add=frozenset({'22726'}), confidence=0.5975948196114708, lift=15.431411593157621)]),\n",
              " RelationRecord(items=frozenset({'23199', '85099B'}), support=0.02142857142857143, ordered_statistics=[OrderedStatistic(items_base=frozenset({'23199'}), items_add=frozenset({'85099B'}), confidence=0.5555555555555556, lift=6.739526411657559), OrderedStatistic(items_base=frozenset({'85099B'}), items_add=frozenset({'23199'}), confidence=0.25995316159250587, lift=6.73952641165756)]),\n",
              " RelationRecord(items=frozenset({'23203', '23202'}), support=0.02, ordered_statistics=[OrderedStatistic(items_base=frozenset({'23202'}), items_add=frozenset({'23203'}), confidence=0.5846501128668172, lift=12.123649258006859), OrderedStatistic(items_base=frozenset({'23203'}), items_add=frozenset({'23202'}), confidence=0.4147317854283427, lift=12.123649258006859)]),\n",
              " RelationRecord(items=frozenset({'85099B', '23203'}), support=0.022471042471042472, ordered_statistics=[OrderedStatistic(items_base=frozenset({'23203'}), items_add=frozenset({'85099B'}), confidence=0.4659727782225781, lift=5.652784522700127), OrderedStatistic(items_base=frozenset({'85099B'}), items_add=frozenset({'23203'}), confidence=0.27259953161592504, lift=5.652784522700127)]),\n",
              " RelationRecord(items=frozenset({'23300', '23301'}), support=0.021196911196911198, ordered_statistics=[OrderedStatistic(items_base=frozenset({'23300'}), items_add=frozenset({'23301'}), confidence=0.7176470588235294, lift=20.11586452762923), OrderedStatistic(items_base=frozenset({'23301'}), items_add=frozenset({'23300'}), confidence=0.5941558441558441, lift=20.11586452762923)]),\n",
              " RelationRecord(items=frozenset({'85099B', '85099C'}), support=0.022895752895752897, ordered_statistics=[OrderedStatistic(items_base=frozenset({'85099B'}), items_add=frozenset({'85099C'}), confidence=0.27775175644028105, lift=7.596378555230496), OrderedStatistic(items_base=frozenset({'85099C'}), items_add=frozenset({'85099B'}), confidence=0.6261879619852165, lift=7.596378555230495)]),\n",
              " RelationRecord(items=frozenset({'85099B', '85099F'}), support=0.021042471042471044, ordered_statistics=[OrderedStatistic(items_base=frozenset({'85099B'}), items_add=frozenset({'85099F'}), confidence=0.25526932084309134, lift=7.965633023898874), OrderedStatistic(items_base=frozenset({'85099F'}), items_add=frozenset({'85099B'}), confidence=0.6566265060240964, lift=7.965633023898874)]),\n",
              " RelationRecord(items=frozenset({'22697', '22698', '22699'}), support=0.021196911196911198, ordered_statistics=[OrderedStatistic(items_base=frozenset({'22697'}), items_add=frozenset({'22699', '22698'}), confidence=0.5193945127719962, lift=21.909312509437626), OrderedStatistic(items_base=frozenset({'22698'}), items_add=frozenset({'22697', '22699'}), confidence=0.6845386533665836, lift=22.614223370146064), OrderedStatistic(items_base=frozenset({'22699'}), items_add=frozenset({'22697', '22698'}), confidence=0.4901785714285714, lift=19.71370341614907), OrderedStatistic(items_base=frozenset({'22697', '22698'}), items_add=frozenset({'22699'}), confidence=0.8524844720496895, lift=19.71370341614907), OrderedStatistic(items_base=frozenset({'22697', '22699'}), items_add=frozenset({'22698'}), confidence=0.7002551020408164, lift=22.614223370146068), OrderedStatistic(items_base=frozenset({'22699', '22698'}), items_add=frozenset({'22697'}), confidence=0.8941368078175896, lift=21.909312509437626)])]"
            ]
          },
          "metadata": {
            "tags": []
          },
          "execution_count": 14
        }
      ]
    },
    {
      "cell_type": "code",
      "metadata": {
        "id": "6mMBr2wj6zUD"
      },
      "source": [
        ""
      ],
      "execution_count": null,
      "outputs": []
    }
  ]
}